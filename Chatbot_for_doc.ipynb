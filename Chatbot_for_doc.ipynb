{
  "nbformat": 4,
  "nbformat_minor": 0,
  "metadata": {
    "colab": {
      "provenance": [],
      "authorship_tag": "ABX9TyOxmsuLw9OV1Tsgk+Rjmi4J",
      "include_colab_link": true
    },
    "kernelspec": {
      "name": "python3",
      "display_name": "Python 3"
    },
    "language_info": {
      "name": "python"
    }
  },
  "cells": [
    {
      "cell_type": "markdown",
      "metadata": {
        "id": "view-in-github",
        "colab_type": "text"
      },
      "source": [
        "<a href=\"https://colab.research.google.com/github/Gk1694/Natural-language-processing/blob/main/Chatbot_for_doc.ipynb\" target=\"_parent\"><img src=\"https://colab.research.google.com/assets/colab-badge.svg\" alt=\"Open In Colab\"/></a>"
      ]
    },
    {
      "cell_type": "code",
      "execution_count": 1,
      "metadata": {
        "id": "krGMc8fmua7U"
      },
      "outputs": [],
      "source": [
        "mkdir data"
      ]
    },
    {
      "cell_type": "code",
      "source": [
        "!pip install langchain\n",
        "!pip install openai"
      ],
      "metadata": {
        "id": "u1PDEhTWvOjf"
      },
      "execution_count": null,
      "outputs": []
    },
    {
      "cell_type": "code",
      "source": [
        "!pip install chromadb tiktoken docx2txt"
      ],
      "metadata": {
        "id": "qXMk4ghfvsXX"
      },
      "execution_count": null,
      "outputs": []
    },
    {
      "cell_type": "code",
      "source": [
        "!pip install pypdf"
      ],
      "metadata": {
        "id": "UNN-cGgX3HOi"
      },
      "execution_count": null,
      "outputs": []
    },
    {
      "cell_type": "code",
      "source": [
        "from chromadb.api.types import Metadatas\n",
        "import os\n",
        "from langchain.document_loaders import PyPDFLoader\n",
        "from langchain.text_splitter import CharacterTextSplitter\n",
        "from langchain.vectorstores import Chroma\n",
        "from langchain.embeddings import OpenAIEmbeddings\n",
        "\n",
        "os.environ[\"OPENAI_API_KEY\"] = \"<YOUR API KEY>\"\n",
        "\n",
        "# load the document \n",
        "loader = PyPDFLoader('ssh275.pdf')\n",
        "documents = loader.load()\n",
        "\n",
        "# we split the data into chunks of 1,000 characters, with an overlap\n",
        "# of 200 characters between the chunks, which helps to give better results\n",
        "# and contain the context of the information between chunks\n",
        "text_splitter = CharacterTextSplitter(chunk_size=1000, chunk_overlap=200)\n",
        "documents = text_splitter.split_documents(documents)\n",
        "\n",
        "# we create our vectorDB, using the OpenAIEmbeddings tranformer to create\n",
        "# embeddings from our text chunks. We set all the db information to be stored\n",
        "# inside the ./data directory, so it doesn't clutter up our source files\n",
        "vectordb = Chroma.from_documents(\n",
        "  documents,\n",
        "  embedding=OpenAIEmbeddings(),\n",
        "  persist_directory='./data'\n",
        ")\n",
        "vectordb.persist()"
      ],
      "metadata": {
        "id": "MIFzD5F2wpOq"
      },
      "execution_count": 5,
      "outputs": []
    },
    {
      "cell_type": "code",
      "source": [
        "print(len(documents))"
      ],
      "metadata": {
        "colab": {
          "base_uri": "https://localhost:8080/"
        },
        "id": "drWFZ_jf9E9Y",
        "outputId": "4cd1a547-2b77-4acc-e630-ea422abec272"
      },
      "execution_count": 6,
      "outputs": [
        {
          "output_type": "stream",
          "name": "stdout",
          "text": [
            "12\n"
          ]
        }
      ]
    },
    {
      "cell_type": "code",
      "source": [
        "from langchain.chains import RetrievalQA\n",
        "from langchain.llms import OpenAI\n",
        "\n",
        "def answer(query):\n",
        "  qa_chain = RetrievalQA.from_chain_type(\n",
        "    llm=OpenAI(),\n",
        "    retriever=vectordb.as_retriever(search_kwargs={'k': 5}),\n",
        "    return_source_documents=True\n",
        "  )\n",
        "\n",
        "  # we can now execute queries against our Q&A chain\n",
        "  result = qa_chain({'query': query})\n",
        "  return result"
      ],
      "metadata": {
        "id": "oo7pmVm93O9j"
      },
      "execution_count": 19,
      "outputs": []
    },
    {
      "cell_type": "code",
      "source": [
        "question = \"What is the polution?\"\n",
        "ans = answer(question)\n",
        "print(ans['result'])\n",
        "print(\"----------\")\n",
        "print(ans['source_documents'])"
      ],
      "metadata": {
        "colab": {
          "base_uri": "https://localhost:8080/"
        },
        "id": "gx6ZKZilF8sA",
        "outputId": "f014e9f5-7e93-4897-c177-f91e152ef196"
      },
      "execution_count": 22,
      "outputs": [
        {
          "output_type": "stream",
          "name": "stdout",
          "text": [
            " Pollution is the introduction by man into the environment of substances or energy liable to cause hazards to human health, harm to living resources and ecological systems, damage to structure or amenity or interference with legitimate uses of the environment.\n",
            "----------\n",
            "[Document(page_content='North Asian International Research Journal  of Social Science & Humanities   ISSN: 24 54-9827    Vol. 3, Issue 8, Aug.  2017  \\n \\nNorth Asian International research Journal consortiums www.nairjc.com  \\n 152 DEFINITION OF POLLUTION  \\n \\nThe Royal Commission on Environmental Pollution in U.K. in its third report gave the following \\ndefinition to the term “Pollution”, namely:  \\n \\nThe introduction by man into the environment of substances or energy liabl e to cause hazards to human \\nhealth, harm to living resources and ecological systems, damage to structure or amenity or interference with \\nlegitimate uses of the environment”.  \\n \\nAccording to Section 1(3) of the U.K. Environment Protection Act, 1990, the term „Pollution‟ means:  \\n \\nThe release (into any environmental medium) from any process of substances which are capable of \\ncausing harm to man or any other living organisms supporte d by the environment.  \\n \\n Pollution occurs when there is the potential for harm. Harm of man is not confined to physical injury but \\nencompasses offence caused to any of his senses or harm to his property, therefore smells and noise which I may \\nnot cause inju ry can constitute pollution. Harm to living organisms can include harm to their health or \\ninterference with the ecological systems of which they form a part”.  \\n \\nKINDS OF POLLUTION  \\n \\nEnvironmental pollution may broadly be classified into: (1) Natural pollution; (2) Man -made pollution.  \\n \\n1. Natural Pollution:  Environment is polluted often by natural phenomenon, such as earthquakes, floods, \\ndrought, cyclones, etc.  \\n2. Man -made Pollution: Human activities.  \\n \\nThe environmental pollution can also be classified  further as, Air pollution, water pollution, land \\npollution, food pollution, noise pollution and radio -active pollution, etc.  \\n \\nFACTORS OF ENVIRONMENTAL PROBLEMS  \\n \\nThe „environmental crisis‟ is caused due to environment and ecological changes as a result of \\ndevelopmental process of the \\'economic and technological man\" of the present century. In fact if the present \\ncentury is marked by socio -economic, scientific and t echnological development on the one hand, it is plagued by \\nserious problems of environmental problems on the other hand. The environmental crisis arising out of the', metadata={'source': 'ssh275.pdf', 'page': 2}), Document(page_content='IRJIF I.F. : 3.015  North Asian International Research Journal of \\nSocial Science & Humanities    \\n \\n \\n \\n North Asian International research Journal consortiums www.nairjc.com  \\nISSN:   2454 -9827                          Vol. 3, Issue -8                              August -2017 \\n151 ENVIRONMENTAL POLLUT ION CAUSES AND \\nCONSEQUENCES: A STUD Y \\n \\n \\n*DR. RAMAMOHANA REDDY APPANNAGARI  \\n*Environmental Ecologist.  \\n \\nABSTRACT  \\nMan is causing all round damage to atmosphere, water, land, to the various elements of environment and \\nto the ecosystem itself. There is so much man -made pollution and environmental degradation that the \\nnightmare ahead is enough jittery to shake us all. Ta king a synoptic view of the general scenario a few \\ntrends are underway. Our atmosphere on global as well as regional scale is heavily polluted. The \\nprotective ozone shield in the heavily populated latitudes of the northern hemisphere is thinning twice fast  \\nas scientists thought a few years ago. The buildup of green house gases will lead to significant changes in \\nthe weather patterns in the near future leading to global warming. The destruction of ozone layer and the \\nfurther warming of the earth surface thre aten catastrophic consequences such as eruption of cancerous \\nand tropical diseases, disruption of oceans food chain, rising of sea levels, submersion of many islands, \\nmelting of small land -based glaciers, flooding in many low lying coastal areas and harves t loss etc.  \\n \\n \\nINTRODUCTION  \\n \\nThe concept of environment is as old as the concept of the nature itself. It is a composite term referring to \\nconditions in which organisms consisting of air, water, food, sunlight etc., thrive and become living sources of \\nlife for- all the living and non -living beings including plant life. The term also includes atmospheric temperature, \\nwind and its velocity.  \\n \\nENVIRONMENTAL POLLUTION  \\n \\nBefore understanding what “Environmental Pollution” is it is equally necessary to -know what “pollution” \\nis.', metadata={'source': 'ssh275.pdf', 'page': 1}), Document(page_content=\"North Asian International Research Journal  of Social Science & Humanities   ISSN: 24 54-9827    Vol. 3, Issue 8, Aug.  2017  \\n \\nNorth Asian International research Journal consortiums www.nairjc.com  \\n 153 environmental deterioration caused by several forms of pollution, depletion of natural reso urces because of rapid \\nrate of their exploitation and increasing dependence on energy consuming and ecologically damaging \\ntechnologies, the loss of habitats due to industrial, urban and agricultural expansion, reduction and loss of \\necological populations d ue to excessive use of toxic pesticides and herbicides and loss of several species of plants \\ndue to practice of monoculture removal of habitats through forest clearance has now become of global concern. \\nThe life of common man is being so rapidly adversely affected by environmental degradation caused by man \\nhimself that there has been a marked growth of interest within the last decade in the quality of the environment, \\nthe disruption of the earth's natural ecosystems and the depletion of resources.  \\n \\nThe most  striking reason of the environmental degradation and hence global environmental crisis is the \\nfact of deteriorating relationship between man and environment because of rapid rate of exploitation of natural \\nresources, technological development and industri al expansion. The rate of environmental change and resultant \\nenvironmental degradation caused by human activities has been so fast and widespread.  \\n \\nThe impact of man on environment through his economic activities are varied and highly complex as the \\ntransf ormation or modification of the natural condition and process leads to a series of changes in the biotic and \\nabiotic components of the environment. The impacts of man on environment fall into two categories (i) direct or \\nintentional impacts and (ii) indire ct or unintentional impacts, Direct or intentional impact of human activities are \\npreplanned and premeditated because man is aware of the consequences, both positive and negative of any \\nprogramme which is launched to change or modify the natural environmen t for economic development of the \\nregion concerned. The effects of anthropogenic changes in the environment are noticeable within short period \\nand these effects are reversible. On the other hand the indirect impacts of human activities on the environment a re \\nnot premeditated and preplanned and these impacts arise from those human activities which are directed to \\naccelerate the pace of economic growth, especially industrial development. The indirect impacts are experienced \\nafter long time when they become cu mulative. These indirect effects of human economic activities may change \\nthe overall natural environmental system and the chain -effects sometimes degrade the environment to such an \\nextent that this becomes suicidal for human beings.  \\n \\nMAIN CAUSES OF ENVIRON MENTAL POLLUTION  \\n \\nThe problem of environmental pollution, we face today, is a complex consequence of forces connected \\nwith various interrelating factors. There are clearly a number of divergent and conflicting views of what could be \\nthe basic factors under lying the environmental crisis. No single cause can be considered as the root cause of\", metadata={'source': 'ssh275.pdf', 'page': 3}), Document(page_content='See discussions, st ats, and author pr ofiles f or this public ation at : https://www .researchgate.ne t/public ation/323944189\\nEnvironmental Pollution Causes and Consequences: A Study\\nArticle  · August 2017\\nCITATIONS\\n98READS\\n523,224\\n1 author:\\nSome o f the author s of this public ation ar e also w orking on these r elat ed pr ojects:\\nEnvir onment and Ec olog y View pr oject\\nHealth and Nutrition  View pr oject\\nRamamohana R eddy R eddy App annag ari\\nCHEMTEX Envir onment al &IndustrialHygiene Labor atories\\n52 PUBLICA TIONS \\xa0\\xa0\\xa0131 CITATIONS \\xa0\\xa0\\xa0\\nSEE PROFILE\\nAll c ontent f ollo wing this p age was uplo aded b y Ramamohana R eddy R eddy App annag ari on 22 Mar ch 2018.\\nThe user has r equest ed enhanc ement of the do wnlo aded file.', metadata={'source': 'ssh275.pdf', 'page': 0}), Document(page_content='North Asian International Research Journal  of Social Science & Humanities   ISSN: 24 54-9827    Vol. 3, Issue 8, Aug.  2017  \\n \\nNorth Asian International research Journal consortiums www.nairjc.com  \\n 160 10. Poverty  \\n \\nIt is true that poor cause damage to environment. Due to poverty the people exploit excessively the natural \\nresources of  the country for meeting their basic needs (food, fuel, shelter, employment fodder for their cattle). \\nPoverty and need are indeed the greatest polluters as told by late Mrs. Indira Gandhi in her address to the \\nStockholm Conference. Hence necessary steps sh ould be taken to bring the poor people above the poverty line.  \\n \\nCONCLUSION  \\n \\nThe causes for environmental problems are many. The multiplicity of causes makes it difficult to clearly \\ndelineate the causes and consequences of environmental degradation in terms  of simple one to one relationship. \\nThe causes and effects are often interwoven in complex webs of social, technological, environmental and \\npolitical factors. However, some of the very common causes of environmental degradation which can be clearly \\npointed  out are the population growth, the economic growth associated with the affluence factor and change of \\ntechnology. Population is an important resource for development, yet it is a major cause of environmental \\ndegradation when it exceeds the threshold limit s of the support systems. The overriding impact of adverse \\ndemographic pressure ultimately falls on our resources and ecosystems. Combined with it the conditions of \\npoverty and underdevelopment themselves create a situation where the people are forced to l ive in squalor and \\nfurther degrade their environment. The process of development itself also leads to damage of the environment, if \\nnot properly managed. Associated with the rapid economic growth, the extravagant affluence consume far more \\nresources and pu t far greater pressure on natural resources. The change of technology causes planned \\nobsolescence causing the generation of more and more wastes which in turn prove ecologi cally harmful. Short -\\nterm interests of private profit maximization, further, hamper  the process of replacement of obsolete technologies \\nby the ecologically benign technologies.  \\n \\nREFERENCES  \\n \\n1. Khan, I.A., Environmental Law, Central Law Agency, Allahabad, 2002.  \\n2. Kailash Thakur , Environment Protection Law and Policy in India , Deep and Deep Pub lications, New Delhi.  \\n3. Sterling, S., Mapping environmental education. In W. D. S. Leal Filho & J. A. Palmer. (Eds.) Key issues in \\nenvironmental education,  University of Bradford: UNESCO, 1992.  \\n4. Armin Rosencranz, Shyam Divan and Martha L. Noble, Environmental  Law and Policy in India – Cases, \\nMaterial and Statutes, 1991.', metadata={'source': 'ssh275.pdf', 'page': 10})]\n"
          ]
        }
      ]
    }
  ]
}