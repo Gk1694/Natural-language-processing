{
  "nbformat": 4,
  "nbformat_minor": 0,
  "metadata": {
    "colab": {
      "provenance": [],
      "authorship_tag": "ABX9TyN8xjugZ0dHjiysRP7TPFbr",
      "include_colab_link": true
    },
    "kernelspec": {
      "name": "python3",
      "display_name": "Python 3"
    },
    "language_info": {
      "name": "python"
    }
  },
  "cells": [
    {
      "cell_type": "markdown",
      "metadata": {
        "id": "view-in-github",
        "colab_type": "text"
      },
      "source": [
        "<a href=\"https://colab.research.google.com/github/Gk1694/Natural-language-processing/blob/main/Social_Media.ipynb\" target=\"_parent\"><img src=\"https://colab.research.google.com/assets/colab-badge.svg\" alt=\"Open In Colab\"/></a>"
      ]
    },
    {
      "cell_type": "code",
      "execution_count": null,
      "metadata": {
        "id": "X9b_pllWm62d"
      },
      "outputs": [],
      "source": [
        "!pip3 install git+https://github.com/JustAnotherArchivist/snscrape.git"
      ]
    },
    {
      "cell_type": "code",
      "source": [
        "API_TOKEN = \"<your Hugging Face token>\""
      ],
      "metadata": {
        "id": "U6pMnE7nPyg-"
      },
      "execution_count": 40,
      "outputs": []
    },
    {
      "cell_type": "markdown",
      "source": [
        "Scraping Tweeter data using snscraper\n"
      ],
      "metadata": {
        "id": "eswBy89FI5sG"
      }
    },
    {
      "cell_type": "code",
      "source": [
        "import snscrape.modules.twitter as sntwitter\n",
        "import pandas as pd\n",
        "\n",
        "# Creating list to append tweet data to\n",
        "attributes_container = []\n",
        "\n",
        "# Using TwitterSearchScraper to scrape data and append tweets to list\n",
        "for i,tweet in enumerate(sntwitter.TwitterSearchScraper('karnataka election since:2023-04-05 until:2023-05-06').get_items()):\n",
        "    if i>1500:\n",
        "        break\n",
        "    attributes_container.append([tweet.user.username, tweet.date, tweet.likeCount, tweet.media, tweet.content, tweet.replyCount, tweet.retweetCount, tweet.lang, tweet.viewCount,tweet.place])\n",
        "    \n",
        "# Creating a dataframe to load the list\n",
        "tweets_df = pd.DataFrame(attributes_container, columns=[\"User\", \"Date Created\", \"Number of Likes\", \"media\", \"Tweet\", \"Reply Count\",\"Retweet Count\",\"lang\",\"veiw\",\"Place\"])"
      ],
      "metadata": {
        "id": "lE_jxBvUnZj4"
      },
      "execution_count": null,
      "outputs": []
    },
    {
      "cell_type": "markdown",
      "source": [
        "gather the data related the modi in tweet"
      ],
      "metadata": {
        "id": "RSdi_Ik3NdbB"
      }
    },
    {
      "cell_type": "code",
      "source": [
        "tweets = tweets_df[tweets_df['lang'] == 'en']"
      ],
      "metadata": {
        "id": "Mzg2tVN2n18C"
      },
      "execution_count": 42,
      "outputs": []
    },
    {
      "cell_type": "code",
      "source": [
        "train = tweets[['User','Tweet','Number of Likes','Reply Count','Retweet Count','veiw']]"
      ],
      "metadata": {
        "id": "VH3zQ1pt_LBJ"
      },
      "execution_count": 43,
      "outputs": []
    },
    {
      "cell_type": "code",
      "source": [
        "train.dropna(inplace=True)"
      ],
      "metadata": {
        "id": "9Ckb48KeAPey"
      },
      "execution_count": null,
      "outputs": []
    },
    {
      "cell_type": "code",
      "source": [
        "train.info()"
      ],
      "metadata": {
        "colab": {
          "base_uri": "https://localhost:8080/"
        },
        "id": "Xe5OjXgukAE5",
        "outputId": "2a664773-9a76-43ff-9d57-5f1ed6aae1c1"
      },
      "execution_count": 45,
      "outputs": [
        {
          "output_type": "stream",
          "name": "stdout",
          "text": [
            "<class 'pandas.core.frame.DataFrame'>\n",
            "Int64Index: 8354 entries, 1 to 15000\n",
            "Data columns (total 6 columns):\n",
            " #   Column           Non-Null Count  Dtype  \n",
            "---  ------           --------------  -----  \n",
            " 0   User             8354 non-null   object \n",
            " 1   Tweet            8354 non-null   object \n",
            " 2   Number of Likes  8354 non-null   int64  \n",
            " 3   Reply Count      8354 non-null   int64  \n",
            " 4   Retweet Count    8354 non-null   int64  \n",
            " 5   veiw             8354 non-null   float64\n",
            "dtypes: float64(1), int64(3), object(2)\n",
            "memory usage: 456.9+ KB\n"
          ]
        }
      ]
    },
    {
      "cell_type": "code",
      "source": [
        "train['Tweet'][2]"
      ],
      "metadata": {
        "colab": {
          "base_uri": "https://localhost:8080/",
          "height": 53
        },
        "id": "1neOLOKmqV0b",
        "outputId": "43874f46-4be1-49a4-a395-3806bd0ef345"
      },
      "execution_count": 52,
      "outputs": [
        {
          "output_type": "execute_result",
          "data": {
            "text/plain": [
              "'@nviswam @Swamy39 @chitrapadhi @RajeshTamret @Bhaskarg77G @MrRao_RB Many times I have said , modi is a seasoned politician'"
            ],
            "application/vnd.google.colaboratory.intrinsic+json": {
              "type": "string"
            }
          },
          "metadata": {},
          "execution_count": 52
        }
      ]
    },
    {
      "cell_type": "code",
      "source": [
        "indexs = [i for i in range(train.shape[0])]\n",
        "train['Index'] = indexs\n",
        "train = train.set_index('Index')\n",
        "train.index"
      ],
      "metadata": {
        "id": "mHghUNylAnqD"
      },
      "execution_count": null,
      "outputs": []
    },
    {
      "cell_type": "code",
      "source": [
        "train.info()"
      ],
      "metadata": {
        "colab": {
          "base_uri": "https://localhost:8080/"
        },
        "id": "gymPrRTokOhy",
        "outputId": "690beaa0-db43-4ddd-f5b2-b98f20b9ba29"
      },
      "execution_count": 39,
      "outputs": [
        {
          "output_type": "stream",
          "name": "stdout",
          "text": [
            "<class 'pandas.core.frame.DataFrame'>\n",
            "Int64Index: 8354 entries, 0 to 8353\n",
            "Data columns (total 6 columns):\n",
            " #   Column           Non-Null Count  Dtype  \n",
            "---  ------           --------------  -----  \n",
            " 0   User             8354 non-null   object \n",
            " 1   Tweet            8354 non-null   object \n",
            " 2   Number of Likes  8354 non-null   int64  \n",
            " 3   Reply Count      8354 non-null   int64  \n",
            " 4   Retweet Count    8354 non-null   int64  \n",
            " 5   veiw             8354 non-null   float64\n",
            "dtypes: float64(1), int64(3), object(2)\n",
            "memory usage: 456.9+ KB\n"
          ]
        }
      ]
    },
    {
      "cell_type": "code",
      "source": [
        "import requests\n",
        "import time\n",
        "\n",
        "API_URL = \"https://api-inference.huggingface.co/models/cardiffnlp/twitter-roberta-base-sentiment-latest\"\n",
        "headers = {\"Authorization\": f\"Bearer {API_TOKEN}\"}\n",
        "\n",
        "def analysis(data):\n",
        "    payload = dict(inputs=data, options=dict(wait_for_model=True))\n",
        "    response = requests.post(API_URL, headers=headers, json=payload)\n",
        "    return response.json()\n",
        "\n",
        "# Let's run the sentiment analysis on each tweet\n",
        "exxx = 0\n",
        "tweets_analysis = []\n",
        "for tweet in train['Tweet']:\n",
        "    try:\n",
        "        sentiment_result = analysis(tweet)[0]\n",
        "        top_sentiment = max(sentiment_result, key=lambda x: x['score']) # Get the sentiment with the higher score     \n",
        "        tweets_analysis.append({'tweet': tweet, 'sentiment': top_sentiment['label']})\n",
        "\n",
        "    except Exception as e: \n",
        "      exxx += 1"
      ],
      "metadata": {
        "id": "a5DrTgNENXXE"
      },
      "execution_count": 41,
      "outputs": []
    },
    {
      "cell_type": "code",
      "source": [
        "print(len(tweets_analysis))"
      ],
      "metadata": {
        "colab": {
          "base_uri": "https://localhost:8080/"
        },
        "id": "szXJsXtGleNj",
        "outputId": "e61c4ccc-a546-4cb5-8bfb-235f9242eede"
      },
      "execution_count": 47,
      "outputs": [
        {
          "output_type": "stream",
          "name": "stdout",
          "text": [
            "300\n"
          ]
        }
      ]
    },
    {
      "cell_type": "code",
      "source": [
        "df = pd.DataFrame(tweets_analysis)\n",
        "df.tail()"
      ],
      "metadata": {
        "colab": {
          "base_uri": "https://localhost:8080/",
          "height": 206
        },
        "id": "pA2iKpKldu3w",
        "outputId": "a2a0a282-56c0-4603-bb6c-751450671e94"
      },
      "execution_count": 48,
      "outputs": [
        {
          "output_type": "execute_result",
          "data": {
            "text/plain": [
              "                                                 tweet sentiment\n",
              "295  @ledygarga @anuragteddy Modi was right wing he...   neutral\n",
              "296  @republic @rahmantauseef19 It seems there are ...   neutral\n",
              "297   @1vincibl3 Modi's Father https://t.co/1Tbb3XoGC1   neutral\n",
              "298  @sky_phd @ramkhelawan0033 It's more easily und...  positive\n",
              "299  @Champaka_Aranya @sandhyaravishan @NCWIndia @s...   neutral"
            ],
            "text/html": [
              "\n",
              "  <div id=\"df-60ef67cf-90b6-4c96-b96c-84cde8eb7658\">\n",
              "    <div class=\"colab-df-container\">\n",
              "      <div>\n",
              "<style scoped>\n",
              "    .dataframe tbody tr th:only-of-type {\n",
              "        vertical-align: middle;\n",
              "    }\n",
              "\n",
              "    .dataframe tbody tr th {\n",
              "        vertical-align: top;\n",
              "    }\n",
              "\n",
              "    .dataframe thead th {\n",
              "        text-align: right;\n",
              "    }\n",
              "</style>\n",
              "<table border=\"1\" class=\"dataframe\">\n",
              "  <thead>\n",
              "    <tr style=\"text-align: right;\">\n",
              "      <th></th>\n",
              "      <th>tweet</th>\n",
              "      <th>sentiment</th>\n",
              "    </tr>\n",
              "  </thead>\n",
              "  <tbody>\n",
              "    <tr>\n",
              "      <th>295</th>\n",
              "      <td>@ledygarga @anuragteddy Modi was right wing he...</td>\n",
              "      <td>neutral</td>\n",
              "    </tr>\n",
              "    <tr>\n",
              "      <th>296</th>\n",
              "      <td>@republic @rahmantauseef19 It seems there are ...</td>\n",
              "      <td>neutral</td>\n",
              "    </tr>\n",
              "    <tr>\n",
              "      <th>297</th>\n",
              "      <td>@1vincibl3 Modi's Father https://t.co/1Tbb3XoGC1</td>\n",
              "      <td>neutral</td>\n",
              "    </tr>\n",
              "    <tr>\n",
              "      <th>298</th>\n",
              "      <td>@sky_phd @ramkhelawan0033 It's more easily und...</td>\n",
              "      <td>positive</td>\n",
              "    </tr>\n",
              "    <tr>\n",
              "      <th>299</th>\n",
              "      <td>@Champaka_Aranya @sandhyaravishan @NCWIndia @s...</td>\n",
              "      <td>neutral</td>\n",
              "    </tr>\n",
              "  </tbody>\n",
              "</table>\n",
              "</div>\n",
              "      <button class=\"colab-df-convert\" onclick=\"convertToInteractive('df-60ef67cf-90b6-4c96-b96c-84cde8eb7658')\"\n",
              "              title=\"Convert this dataframe to an interactive table.\"\n",
              "              style=\"display:none;\">\n",
              "        \n",
              "  <svg xmlns=\"http://www.w3.org/2000/svg\" height=\"24px\"viewBox=\"0 0 24 24\"\n",
              "       width=\"24px\">\n",
              "    <path d=\"M0 0h24v24H0V0z\" fill=\"none\"/>\n",
              "    <path d=\"M18.56 5.44l.94 2.06.94-2.06 2.06-.94-2.06-.94-.94-2.06-.94 2.06-2.06.94zm-11 1L8.5 8.5l.94-2.06 2.06-.94-2.06-.94L8.5 2.5l-.94 2.06-2.06.94zm10 10l.94 2.06.94-2.06 2.06-.94-2.06-.94-.94-2.06-.94 2.06-2.06.94z\"/><path d=\"M17.41 7.96l-1.37-1.37c-.4-.4-.92-.59-1.43-.59-.52 0-1.04.2-1.43.59L10.3 9.45l-7.72 7.72c-.78.78-.78 2.05 0 2.83L4 21.41c.39.39.9.59 1.41.59.51 0 1.02-.2 1.41-.59l7.78-7.78 2.81-2.81c.8-.78.8-2.07 0-2.86zM5.41 20L4 18.59l7.72-7.72 1.47 1.35L5.41 20z\"/>\n",
              "  </svg>\n",
              "      </button>\n",
              "      \n",
              "  <style>\n",
              "    .colab-df-container {\n",
              "      display:flex;\n",
              "      flex-wrap:wrap;\n",
              "      gap: 12px;\n",
              "    }\n",
              "\n",
              "    .colab-df-convert {\n",
              "      background-color: #E8F0FE;\n",
              "      border: none;\n",
              "      border-radius: 50%;\n",
              "      cursor: pointer;\n",
              "      display: none;\n",
              "      fill: #1967D2;\n",
              "      height: 32px;\n",
              "      padding: 0 0 0 0;\n",
              "      width: 32px;\n",
              "    }\n",
              "\n",
              "    .colab-df-convert:hover {\n",
              "      background-color: #E2EBFA;\n",
              "      box-shadow: 0px 1px 2px rgba(60, 64, 67, 0.3), 0px 1px 3px 1px rgba(60, 64, 67, 0.15);\n",
              "      fill: #174EA6;\n",
              "    }\n",
              "\n",
              "    [theme=dark] .colab-df-convert {\n",
              "      background-color: #3B4455;\n",
              "      fill: #D2E3FC;\n",
              "    }\n",
              "\n",
              "    [theme=dark] .colab-df-convert:hover {\n",
              "      background-color: #434B5C;\n",
              "      box-shadow: 0px 1px 3px 1px rgba(0, 0, 0, 0.15);\n",
              "      filter: drop-shadow(0px 1px 2px rgba(0, 0, 0, 0.3));\n",
              "      fill: #FFFFFF;\n",
              "    }\n",
              "  </style>\n",
              "\n",
              "      <script>\n",
              "        const buttonEl =\n",
              "          document.querySelector('#df-60ef67cf-90b6-4c96-b96c-84cde8eb7658 button.colab-df-convert');\n",
              "        buttonEl.style.display =\n",
              "          google.colab.kernel.accessAllowed ? 'block' : 'none';\n",
              "\n",
              "        async function convertToInteractive(key) {\n",
              "          const element = document.querySelector('#df-60ef67cf-90b6-4c96-b96c-84cde8eb7658');\n",
              "          const dataTable =\n",
              "            await google.colab.kernel.invokeFunction('convertToInteractive',\n",
              "                                                     [key], {});\n",
              "          if (!dataTable) return;\n",
              "\n",
              "          const docLinkHtml = 'Like what you see? Visit the ' +\n",
              "            '<a target=\"_blank\" href=https://colab.research.google.com/notebooks/data_table.ipynb>data table notebook</a>'\n",
              "            + ' to learn more about interactive tables.';\n",
              "          element.innerHTML = '';\n",
              "          dataTable['output_type'] = 'display_data';\n",
              "          await google.colab.output.renderOutput(dataTable, element);\n",
              "          const docLink = document.createElement('div');\n",
              "          docLink.innerHTML = docLinkHtml;\n",
              "          element.appendChild(docLink);\n",
              "        }\n",
              "      </script>\n",
              "    </div>\n",
              "  </div>\n",
              "  "
            ]
          },
          "metadata": {},
          "execution_count": 48
        }
      ]
    },
    {
      "cell_type": "code",
      "source": [
        "df['tweet'][4]"
      ],
      "metadata": {
        "colab": {
          "base_uri": "https://localhost:8080/",
          "height": 35
        },
        "id": "9UVLB93ml4YY",
        "outputId": "2af895c6-cf8e-4d63-a111-38bc62243c65"
      },
      "execution_count": 49,
      "outputs": [
        {
          "output_type": "execute_result",
          "data": {
            "text/plain": [
              "'@MahadevanAnanya Good morning Ananya 🌄☕☕😊💖'"
            ],
            "application/vnd.google.colaboratory.intrinsic+json": {
              "type": "string"
            }
          },
          "metadata": {},
          "execution_count": 49
        }
      ]
    },
    {
      "cell_type": "code",
      "source": [
        "import matplotlib.pyplot as plt\n",
        "\n",
        "# Let's count the number of tweets by sentiments\n",
        "sentiment_counts = df.groupby(['sentiment']).size()\n",
        "print(sentiment_counts)\n",
        "\n",
        "# Let's visualize the sentiments\n",
        "fig = plt.figure(figsize=(6,6), dpi=100)\n",
        "ax = plt.subplot(111)\n",
        "sentiment_counts.plot.pie(ax=ax, autopct='%1.1f%%', startangle=270, fontsize=12, label=\"\")"
      ],
      "metadata": {
        "colab": {
          "base_uri": "https://localhost:8080/",
          "height": 607
        },
        "id": "aEKEDojX4nng",
        "outputId": "a74bb984-542f-4779-fc8a-682986db546f"
      },
      "execution_count": 50,
      "outputs": [
        {
          "output_type": "stream",
          "name": "stdout",
          "text": [
            "sentiment\n",
            "negative    124\n",
            "neutral     127\n",
            "positive     49\n",
            "dtype: int64\n"
          ]
        },
        {
          "output_type": "execute_result",
          "data": {
            "text/plain": [
              "<Axes: >"
            ]
          },
          "metadata": {},
          "execution_count": 50
        },
        {
          "output_type": "display_data",
          "data": {
            "text/plain": [
              "<Figure size 600x600 with 1 Axes>"
            ],
            "image/png": "[encoded data removed]"
          },
          "metadata": {}
        }
      ]
    },
    {
      "cell_type": "markdown",
      "source": [
        "created the data of karnataka election tweet from 5 feb to 6 may"
      ],
      "metadata": {
        "id": "eLHj48ZpJE_4"
      }
    },
    {
      "cell_type": "markdown",
      "source": [
        "Selected the english data only"
      ],
      "metadata": {
        "id": "eyScqlDUK6Sw"
      }
    },
    {
      "cell_type": "code",
      "source": [
        "karnataka = tweets_df[tweets_df['lang'] == 'en']"
      ],
      "metadata": {
        "id": "7Y34U2vXBxyx"
      },
      "execution_count": 57,
      "outputs": []
    },
    {
      "cell_type": "code",
      "source": [
        "kar_train = karnataka[['User','Tweet','Number of Likes','Reply Count','Retweet Count','veiw']]"
      ],
      "metadata": {
        "id": "Q75XmIO-CQcq"
      },
      "execution_count": 58,
      "outputs": []
    },
    {
      "cell_type": "code",
      "source": [
        "kar_train.dropna(inplace=True)"
      ],
      "metadata": {
        "id": "PX7Owwt6CngH"
      },
      "execution_count": null,
      "outputs": []
    },
    {
      "cell_type": "code",
      "source": [
        "kar_train.info()"
      ],
      "metadata": {
        "colab": {
          "base_uri": "https://localhost:8080/"
        },
        "id": "bmKVg3dOC1Oc",
        "outputId": "4d9694a5-4a0c-4c35-8a6e-440780cd7c98"
      },
      "execution_count": 60,
      "outputs": [
        {
          "output_type": "stream",
          "name": "stdout",
          "text": [
            "<class 'pandas.core.frame.DataFrame'>\n",
            "Int64Index: 1045 entries, 0 to 1498\n",
            "Data columns (total 6 columns):\n",
            " #   Column           Non-Null Count  Dtype \n",
            "---  ------           --------------  ----- \n",
            " 0   User             1045 non-null   object\n",
            " 1   Tweet            1045 non-null   object\n",
            " 2   Number of Likes  1045 non-null   int64 \n",
            " 3   Reply Count      1045 non-null   int64 \n",
            " 4   Retweet Count    1045 non-null   int64 \n",
            " 5   veiw             1045 non-null   int64 \n",
            "dtypes: int64(4), object(2)\n",
            "memory usage: 57.1+ KB\n"
          ]
        }
      ]
    },
    {
      "cell_type": "markdown",
      "source": [
        "Most retweet and its veiws"
      ],
      "metadata": {
        "id": "uBZMGW0MMp_w"
      }
    },
    {
      "cell_type": "code",
      "source": [
        "max_retweet = kar_train['Retweet Count'].max()\n",
        "max_retweet_row = kar_train[kar_train['Retweet Count'] == max_retweet]\n",
        "display(max_retweet_row['Tweet'][566])\n",
        "print('--------------------------------------------')\n",
        "display(max_retweet_row['veiw'][566])"
      ],
      "metadata": {
        "colab": {
          "base_uri": "https://localhost:8080/",
          "height": 89
        },
        "id": "llxDqYemLhzF",
        "outputId": "2275788e-65d5-427a-dba0-a29bb2231a48"
      },
      "execution_count": 76,
      "outputs": [
        {
          "output_type": "display_data",
          "data": {
            "text/plain": [
              "'The most VIRAL video of the Karnataka election campaign - 40% PayCM happily dancing with the loot of all the SCAMS!\\n\\n‘Janta Maaf Nahi Karegi’ https://t.co/Z2AnvFxT51'"
            ],
            "application/vnd.google.colaboratory.intrinsic+json": {
              "type": "string"
            }
          },
          "metadata": {}
        },
        {
          "output_type": "stream",
          "name": "stdout",
          "text": [
            "--------------------------------------------\n"
          ]
        },
        {
          "output_type": "display_data",
          "data": {
            "text/plain": [
              "189775"
            ]
          },
          "metadata": {}
        }
      ]
    },
    {
      "cell_type": "code",
      "source": [
        "indexs = [i for i in range(kar_train.shape[0])]\n",
        "kar_train['Index'] = indexs\n",
        "kar_train = kar_train.set_index('Index')\n",
        "kar_train.index"
      ],
      "metadata": {
        "id": "97wQewmbDBgS"
      },
      "execution_count": null,
      "outputs": []
    },
    {
      "cell_type": "markdown",
      "source": [
        "Sentimental analysis on each tweet"
      ],
      "metadata": {
        "id": "hRnzXvB3NuqW"
      }
    },
    {
      "cell_type": "code",
      "source": [
        "# Let's run the sentiment analysis on each tweet\n",
        "kar_exxx = 0\n",
        "for tweet in kar_train['Tweet']:\n",
        "    try:\n",
        "        sentiment_result = analysis(tweet)[0]\n",
        "        top_sentiment = max(sentiment_result, key=lambda x: x['score']) # Get the sentiment with the higher score     \n",
        "        tweets_analysis.append({'tweet': tweet, 'sentiment': top_sentiment['label']})\n",
        "\n",
        "    except Exception as e: \n",
        "      kar_exxx += 1\n"
      ],
      "metadata": {
        "id": "MF5RebRcDaBq"
      },
      "execution_count": 62,
      "outputs": []
    },
    {
      "cell_type": "code",
      "source": [
        "kar_tweets_analysis = tweets_analysis[300:]\n",
        "print(len(kar_tweets_analysis))"
      ],
      "metadata": {
        "colab": {
          "base_uri": "https://localhost:8080/"
        },
        "id": "-kOEc5tUHliJ",
        "outputId": "4b7ca977-944b-4c99-ed2a-6c137866de0a"
      },
      "execution_count": 65,
      "outputs": [
        {
          "output_type": "stream",
          "name": "stdout",
          "text": [
            "300\n"
          ]
        }
      ]
    },
    {
      "cell_type": "code",
      "source": [
        "df2 = pd.DataFrame(kar_tweets_analysis)"
      ],
      "metadata": {
        "id": "XAaGpMF0H1Sa"
      },
      "execution_count": 66,
      "outputs": []
    },
    {
      "cell_type": "code",
      "source": [
        "kar_sentiment_counts = df2.groupby(['sentiment']).size()\n",
        "print(kar_sentiment_counts)\n",
        "\n",
        "# Let's visualize the sentiments\n",
        "fig = plt.figure(figsize=(6,6), dpi=100)\n",
        "ax = plt.subplot(111)\n",
        "kar_sentiment_counts.plot.pie(ax=ax, autopct='%1.1f%%', startangle=270, fontsize=12, label=\"\")"
      ],
      "metadata": {
        "colab": {
          "base_uri": "https://localhost:8080/",
          "height": 607
        },
        "id": "5FGS-PxMIiBg",
        "outputId": "089d6945-82a9-48cc-cf20-759eecd939db"
      },
      "execution_count": 67,
      "outputs": [
        {
          "output_type": "stream",
          "name": "stdout",
          "text": [
            "sentiment\n",
            "negative    100\n",
            "neutral     171\n",
            "positive     29\n",
            "dtype: int64\n"
          ]
        },
        {
          "output_type": "execute_result",
          "data": {
            "text/plain": [
              "<Axes: >"
            ]
          },
          "metadata": {},
          "execution_count": 67
        },
        {
          "output_type": "display_data",
          "data": {
            "text/plain": [
              "<Figure size 600x600 with 1 Axes>"
            ],
            "image/png": "[encoded data removed]"
          },
          "metadata": {}
        }
      ]
    },
    {
      "cell_type": "code",
      "execution_count": null,
      "metadata": {
        "id": "Ga-8RAZVfn2U"
      },
      "outputs": [],
      "source": []
    }
  ]
}